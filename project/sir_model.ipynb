{
 "cells": [
  {
   "cell_type": "code",
   "execution_count": 20,
   "id": "dcf0cf7b",
   "metadata": {},
   "outputs": [],
   "source": [
    "import numpy as np\n",
    "import pandas as pd\n",
    "from scipy.integrate import solve_ivp\n",
    "import statsmodels.api as sm\n",
    "from scipy.interpolate import interp1d\n",
    "import matplotlib.pyplot as plt\n"
   ]
  },
  {
   "cell_type": "code",
   "execution_count": 21,
   "id": "234e3a17",
   "metadata": {},
   "outputs": [],
   "source": [
    "# Функция SIR модели\n",
    "def sir_model(t, y, beta, gamma):\n",
    "    S, I, R = y\n",
    "    beta = beta_interp(t)\n",
    "    gamma = gamma_interp(t)\n",
    "    dSdt = -beta * S * I\n",
    "    dIdt = beta * S * I - gamma * I\n",
    "    dRdt = gamma * I\n",
    "    res = np.array([dSdt, dIdt, dRdt])\n",
    "    return res\n"
   ]
  },
  {
   "cell_type": "code",
   "execution_count": 22,
   "id": "4db9b3e4",
   "metadata": {},
   "outputs": [
    {
     "data": {
      "text/html": [
       "<div>\n",
       "<style scoped>\n",
       "    .dataframe tbody tr th:only-of-type {\n",
       "        vertical-align: middle;\n",
       "    }\n",
       "\n",
       "    .dataframe tbody tr th {\n",
       "        vertical-align: top;\n",
       "    }\n",
       "\n",
       "    .dataframe thead th {\n",
       "        text-align: right;\n",
       "    }\n",
       "</style>\n",
       "<table border=\"1\" class=\"dataframe\">\n",
       "  <thead>\n",
       "    <tr style=\"text-align: right;\">\n",
       "      <th></th>\n",
       "      <th>COUNTRY_NAME</th>\n",
       "      <th>ISO_START_DATE</th>\n",
       "      <th>ISO_YEAR</th>\n",
       "      <th>ISO_WEEK</th>\n",
       "      <th>AGEGROUP_NUM</th>\n",
       "      <th>DETAILED_CASES_CONFIRMED</th>\n",
       "      <th>DETAILED_CASES_DISCHARGED</th>\n",
       "      <th>Susceptible</th>\n",
       "      <th>Infected</th>\n",
       "      <th>Recovered</th>\n",
       "      <th>Betta</th>\n",
       "      <th>Gamma</th>\n",
       "    </tr>\n",
       "  </thead>\n",
       "  <tbody>\n",
       "    <tr>\n",
       "      <th>989</th>\n",
       "      <td>Latvia</td>\n",
       "      <td>2020-03-02</td>\n",
       "      <td>2020</td>\n",
       "      <td>10</td>\n",
       "      <td>0</td>\n",
       "      <td>3</td>\n",
       "      <td>2</td>\n",
       "      <td>1886198</td>\n",
       "      <td>56585</td>\n",
       "      <td>18861</td>\n",
       "      <td>2.810818e-11</td>\n",
       "      <td>0.000035</td>\n",
       "    </tr>\n",
       "    <tr>\n",
       "      <th>990</th>\n",
       "      <td>Latvia</td>\n",
       "      <td>2020-03-09</td>\n",
       "      <td>2020</td>\n",
       "      <td>11</td>\n",
       "      <td>0</td>\n",
       "      <td>27</td>\n",
       "      <td>4</td>\n",
       "      <td>1886195</td>\n",
       "      <td>56586</td>\n",
       "      <td>18863</td>\n",
       "      <td>2.529691e-10</td>\n",
       "      <td>0.000071</td>\n",
       "    </tr>\n",
       "    <tr>\n",
       "      <th>991</th>\n",
       "      <td>Latvia</td>\n",
       "      <td>2020-03-16</td>\n",
       "      <td>2020</td>\n",
       "      <td>12</td>\n",
       "      <td>0</td>\n",
       "      <td>106</td>\n",
       "      <td>4</td>\n",
       "      <td>1886168</td>\n",
       "      <td>56609</td>\n",
       "      <td>18867</td>\n",
       "      <td>9.927345e-10</td>\n",
       "      <td>0.000071</td>\n",
       "    </tr>\n",
       "    <tr>\n",
       "      <th>992</th>\n",
       "      <td>Latvia</td>\n",
       "      <td>2020-03-23</td>\n",
       "      <td>2020</td>\n",
       "      <td>13</td>\n",
       "      <td>0</td>\n",
       "      <td>211</td>\n",
       "      <td>7</td>\n",
       "      <td>1886062</td>\n",
       "      <td>56711</td>\n",
       "      <td>18871</td>\n",
       "      <td>1.972549e-09</td>\n",
       "      <td>0.000123</td>\n",
       "    </tr>\n",
       "    <tr>\n",
       "      <th>993</th>\n",
       "      <td>Latvia</td>\n",
       "      <td>2020-03-30</td>\n",
       "      <td>2020</td>\n",
       "      <td>14</td>\n",
       "      <td>0</td>\n",
       "      <td>187</td>\n",
       "      <td>22</td>\n",
       "      <td>1885851</td>\n",
       "      <td>56915</td>\n",
       "      <td>18878</td>\n",
       "      <td>1.741918e-09</td>\n",
       "      <td>0.000387</td>\n",
       "    </tr>\n",
       "  </tbody>\n",
       "</table>\n",
       "</div>"
      ],
      "text/plain": [
       "    COUNTRY_NAME ISO_START_DATE  ISO_YEAR  ISO_WEEK  AGEGROUP_NUM  \\\n",
       "989       Latvia     2020-03-02      2020        10             0   \n",
       "990       Latvia     2020-03-09      2020        11             0   \n",
       "991       Latvia     2020-03-16      2020        12             0   \n",
       "992       Latvia     2020-03-23      2020        13             0   \n",
       "993       Latvia     2020-03-30      2020        14             0   \n",
       "\n",
       "     DETAILED_CASES_CONFIRMED  DETAILED_CASES_DISCHARGED  Susceptible  \\\n",
       "989                         3                          2      1886198   \n",
       "990                        27                          4      1886195   \n",
       "991                       106                          4      1886168   \n",
       "992                       211                          7      1886062   \n",
       "993                       187                         22      1885851   \n",
       "\n",
       "     Infected  Recovered         Betta     Gamma  \n",
       "989     56585      18861  2.810818e-11  0.000035  \n",
       "990     56586      18863  2.529691e-10  0.000071  \n",
       "991     56609      18867  9.927345e-10  0.000071  \n",
       "992     56711      18871  1.972549e-09  0.000123  \n",
       "993     56915      18878  1.741918e-09  0.000387  "
      ]
     },
     "execution_count": 22,
     "metadata": {},
     "output_type": "execute_result"
    }
   ],
   "source": [
    "# Загрузка данных\n",
    "data = pd.read_csv('for_eda_data.csv')\n",
    "latvia_data = data[data.COUNTRY_NAME == 'Latvia']\n",
    "\n",
    "Ldata = latvia_data.loc[:, ['ISO_START_DATE', 'Betta', 'Gamma', 'DETAILED_CASES_CONFIRMED']]\n",
    "latvia_data.head()"
   ]
  },
  {
   "cell_type": "code",
   "execution_count": 23,
   "id": "0ceec49e",
   "metadata": {},
   "outputs": [
    {
     "name": "stdout",
     "output_type": "stream",
     "text": [
      "<class 'pandas.core.frame.DataFrame'>\n",
      "Int64Index: 163 entries, 989 to 1151\n",
      "Data columns (total 8 columns):\n",
      " #   Column                     Non-Null Count  Dtype  \n",
      "---  ------                     --------------  -----  \n",
      " 0   ISO_START_DATE             163 non-null    object \n",
      " 1   DETAILED_CASES_CONFIRMED   163 non-null    int64  \n",
      " 2   DETAILED_CASES_DISCHARGED  163 non-null    int64  \n",
      " 3   Susceptible                163 non-null    int64  \n",
      " 4   Infected                   163 non-null    int64  \n",
      " 5   Recovered                  163 non-null    int64  \n",
      " 6   Betta                      163 non-null    float64\n",
      " 7   Gamma                      163 non-null    float64\n",
      "dtypes: float64(2), int64(5), object(1)\n",
      "memory usage: 11.5+ KB\n"
     ]
    }
   ],
   "source": [
    "list_column = ['ISO_START_DATE', 'DETAILED_CASES_CONFIRMED', 'DETAILED_CASES_DISCHARGED', \n",
    "               'Susceptible', 'Infected', 'Recovered', 'Betta', 'Gamma'\n",
    "              ]\n",
    "\n",
    "latvia_data = latvia_data[list_column]\n",
    "latvia_data.info()"
   ]
  },
  {
   "cell_type": "code",
   "execution_count": 24,
   "id": "dc424f4b",
   "metadata": {},
   "outputs": [
    {
     "data": {
      "text/plain": [
       "163"
      ]
     },
     "execution_count": 24,
     "metadata": {},
     "output_type": "execute_result"
    }
   ],
   "source": [
    "n = latvia_data.shape[0]\n",
    "n"
   ]
  },
  {
   "cell_type": "code",
   "execution_count": 25,
   "id": "4c88cece",
   "metadata": {},
   "outputs": [
    {
     "data": {
      "text/plain": [
       "(130, 33)"
      ]
     },
     "execution_count": 25,
     "metadata": {},
     "output_type": "execute_result"
    }
   ],
   "source": [
    "# Настройка гипперпараметров\n",
    "p = 0.8 # разделение данных на тренировочные и тестовые\n",
    "n_train = round(n * p)\n",
    "n_test = round(n * (1-p))\n",
    "p_beta, d_beta, q_beta = 1, 0, 2\n",
    "p_gamma, d_gamma, q_gamma = 1, 1, 2\n",
    "\n",
    "n_train, n_test"
   ]
  },
  {
   "cell_type": "code",
   "execution_count": 26,
   "id": "f165e516",
   "metadata": {},
   "outputs": [
    {
     "data": {
      "text/html": [
       "<div>\n",
       "<style scoped>\n",
       "    .dataframe tbody tr th:only-of-type {\n",
       "        vertical-align: middle;\n",
       "    }\n",
       "\n",
       "    .dataframe tbody tr th {\n",
       "        vertical-align: top;\n",
       "    }\n",
       "\n",
       "    .dataframe thead th {\n",
       "        text-align: right;\n",
       "    }\n",
       "</style>\n",
       "<table border=\"1\" class=\"dataframe\">\n",
       "  <thead>\n",
       "    <tr style=\"text-align: right;\">\n",
       "      <th></th>\n",
       "      <th>ISO_START_DATE</th>\n",
       "      <th>Betta</th>\n",
       "      <th>Gamma</th>\n",
       "      <th>DETAILED_CASES_CONFIRMED</th>\n",
       "    </tr>\n",
       "  </thead>\n",
       "  <tbody>\n",
       "    <tr>\n",
       "      <th>989</th>\n",
       "      <td>2020-03-02</td>\n",
       "      <td>2.810818e-11</td>\n",
       "      <td>0.000035</td>\n",
       "      <td>3</td>\n",
       "    </tr>\n",
       "    <tr>\n",
       "      <th>990</th>\n",
       "      <td>2020-03-09</td>\n",
       "      <td>2.529691e-10</td>\n",
       "      <td>0.000071</td>\n",
       "      <td>27</td>\n",
       "    </tr>\n",
       "    <tr>\n",
       "      <th>991</th>\n",
       "      <td>2020-03-16</td>\n",
       "      <td>9.927345e-10</td>\n",
       "      <td>0.000071</td>\n",
       "      <td>106</td>\n",
       "    </tr>\n",
       "    <tr>\n",
       "      <th>992</th>\n",
       "      <td>2020-03-23</td>\n",
       "      <td>1.972549e-09</td>\n",
       "      <td>0.000123</td>\n",
       "      <td>211</td>\n",
       "    </tr>\n",
       "    <tr>\n",
       "      <th>993</th>\n",
       "      <td>2020-03-30</td>\n",
       "      <td>1.741918e-09</td>\n",
       "      <td>0.000387</td>\n",
       "      <td>187</td>\n",
       "    </tr>\n",
       "  </tbody>\n",
       "</table>\n",
       "</div>"
      ],
      "text/plain": [
       "    ISO_START_DATE         Betta     Gamma  DETAILED_CASES_CONFIRMED\n",
       "989     2020-03-02  2.810818e-11  0.000035                         3\n",
       "990     2020-03-09  2.529691e-10  0.000071                        27\n",
       "991     2020-03-16  9.927345e-10  0.000071                       106\n",
       "992     2020-03-23  1.972549e-09  0.000123                       211\n",
       "993     2020-03-30  1.741918e-09  0.000387                       187"
      ]
     },
     "execution_count": 26,
     "metadata": {},
     "output_type": "execute_result"
    }
   ],
   "source": [
    "# Разделение на обучающую и тестовую выборки\n",
    "train_data = Ldata.iloc[:n_train]\n",
    "test_data = Ldata.iloc[n_train:]\n",
    "train_data.head()"
   ]
  },
  {
   "cell_type": "code",
   "execution_count": 27,
   "id": "91de77cb",
   "metadata": {},
   "outputs": [
    {
     "name": "stderr",
     "output_type": "stream",
     "text": [
      "C:\\Users\\legyx\\anaconda3\\envs\\forOtus\\lib\\site-packages\\statsmodels\\tsa\\base\\tsa_model.py:471: ValueWarning: An unsupported index was provided and will be ignored when e.g. forecasting.\n",
      "  self._init_dates(dates, freq)\n",
      "C:\\Users\\legyx\\anaconda3\\envs\\forOtus\\lib\\site-packages\\statsmodels\\tsa\\base\\tsa_model.py:471: ValueWarning: An unsupported index was provided and will be ignored when e.g. forecasting.\n",
      "  self._init_dates(dates, freq)\n",
      "C:\\Users\\legyx\\anaconda3\\envs\\forOtus\\lib\\site-packages\\statsmodels\\tsa\\base\\tsa_model.py:471: ValueWarning: An unsupported index was provided and will be ignored when e.g. forecasting.\n",
      "  self._init_dates(dates, freq)\n",
      "C:\\Users\\legyx\\anaconda3\\envs\\forOtus\\lib\\site-packages\\statsmodels\\base\\model.py:604: ConvergenceWarning: Maximum Likelihood optimization failed to converge. Check mle_retvals\n",
      "  warnings.warn(\"Maximum Likelihood optimization failed to \"\n",
      "C:\\Users\\legyx\\anaconda3\\envs\\forOtus\\lib\\site-packages\\statsmodels\\tsa\\base\\tsa_model.py:471: ValueWarning: An unsupported index was provided and will be ignored when e.g. forecasting.\n",
      "  self._init_dates(dates, freq)\n",
      "C:\\Users\\legyx\\anaconda3\\envs\\forOtus\\lib\\site-packages\\statsmodels\\tsa\\base\\tsa_model.py:471: ValueWarning: An unsupported index was provided and will be ignored when e.g. forecasting.\n",
      "  self._init_dates(dates, freq)\n",
      "C:\\Users\\legyx\\anaconda3\\envs\\forOtus\\lib\\site-packages\\statsmodels\\tsa\\base\\tsa_model.py:471: ValueWarning: An unsupported index was provided and will be ignored when e.g. forecasting.\n",
      "  self._init_dates(dates, freq)\n",
      "C:\\Users\\legyx\\anaconda3\\envs\\forOtus\\lib\\site-packages\\statsmodels\\tsa\\base\\tsa_model.py:834: ValueWarning: No supported index is available. Prediction results will be given with an integer index beginning at `start`.\n",
      "  return get_prediction_index(\n",
      "C:\\Users\\legyx\\anaconda3\\envs\\forOtus\\lib\\site-packages\\statsmodels\\tsa\\base\\tsa_model.py:834: ValueWarning: No supported index is available. Prediction results will be given with an integer index beginning at `start`.\n",
      "  return get_prediction_index(\n"
     ]
    }
   ],
   "source": [
    "# Моделирование и предсказание параметров с помощью ARIMA\n",
    "model_beta = sm.tsa.ARIMA(train_data['Betta'], order=(p_beta, d_beta, q_beta)).fit()\n",
    "model_gamma = sm.tsa.ARIMA(train_data['Gamma'], order=(p_gamma, d_gamma, q_gamma)).fit()\n",
    "beta_forecast_ = model_beta.forecast(steps=n_test)\n",
    "gamma_forecast_ = model_gamma.forecast(steps=n_test)"
   ]
  },
  {
   "cell_type": "code",
   "execution_count": 28,
   "id": "8d6e6bf9",
   "metadata": {},
   "outputs": [],
   "source": [
    "# Использование предсказанных параметров для моделирования SIR\n",
    "y0 = [1886198, 56585, 18861] # y0 = [initial_susceptible, initial_infected, initial_recovered]\n",
    "t = np.arange(0, n_train + n_test, 1)\n"
   ]
  },
  {
   "cell_type": "code",
   "execution_count": 29,
   "id": "a2cf47be",
   "metadata": {},
   "outputs": [],
   "source": [
    "# Объединение предсказанных параметров с данными\n",
    "combined_data = pd.concat([train_data, test_data], axis=0)\n",
    "combined_data['beta_forecast'] = np.concatenate([model_beta.fittedvalues, beta_forecast_])\n",
    "combined_data['gamma_forecast'] = np.concatenate([model_gamma.fittedvalues, gamma_forecast_])"
   ]
  },
  {
   "cell_type": "code",
   "execution_count": null,
   "id": "d8130cc6",
   "metadata": {},
   "outputs": [],
   "source": []
  },
  {
   "cell_type": "code",
   "execution_count": 30,
   "id": "3eb52d70",
   "metadata": {},
   "outputs": [],
   "source": [
    "beta_forecast = combined_data['beta_forecast'].values.flatten()\n",
    "gamma_forecast = combined_data['gamma_forecast'].values.flatten()\n",
    "\n",
    "beta_interp = interp1d(t, beta_forecast)\n",
    "gamma_interp = interp1d(t, gamma_forecast)\n"
   ]
  },
  {
   "cell_type": "code",
   "execution_count": 31,
   "id": "79d97990",
   "metadata": {},
   "outputs": [
    {
     "data": {
      "text/html": [
       "<div>\n",
       "<style scoped>\n",
       "    .dataframe tbody tr th:only-of-type {\n",
       "        vertical-align: middle;\n",
       "    }\n",
       "\n",
       "    .dataframe tbody tr th {\n",
       "        vertical-align: top;\n",
       "    }\n",
       "\n",
       "    .dataframe thead th {\n",
       "        text-align: right;\n",
       "    }\n",
       "</style>\n",
       "<table border=\"1\" class=\"dataframe\">\n",
       "  <thead>\n",
       "    <tr style=\"text-align: right;\">\n",
       "      <th></th>\n",
       "      <th>S</th>\n",
       "      <th>I</th>\n",
       "      <th>R</th>\n",
       "    </tr>\n",
       "  </thead>\n",
       "  <tbody>\n",
       "    <tr>\n",
       "      <th>1</th>\n",
       "      <td>1.886198e+06</td>\n",
       "      <td>56585.000000</td>\n",
       "      <td>18861.000000</td>\n",
       "    </tr>\n",
       "    <tr>\n",
       "      <th>2</th>\n",
       "      <td>1.885572e+06</td>\n",
       "      <td>57209.998618</td>\n",
       "      <td>18861.967822</td>\n",
       "    </tr>\n",
       "    <tr>\n",
       "      <th>3</th>\n",
       "      <td>1.885522e+06</td>\n",
       "      <td>57257.214396</td>\n",
       "      <td>18865.122836</td>\n",
       "    </tr>\n",
       "    <tr>\n",
       "      <th>4</th>\n",
       "      <td>1.885325e+06</td>\n",
       "      <td>57450.518400</td>\n",
       "      <td>18868.813375</td>\n",
       "    </tr>\n",
       "    <tr>\n",
       "      <th>5</th>\n",
       "      <td>1.885008e+06</td>\n",
       "      <td>57764.473405</td>\n",
       "      <td>18871.599349</td>\n",
       "    </tr>\n",
       "    <tr>\n",
       "      <th>...</th>\n",
       "      <td>...</td>\n",
       "      <td>...</td>\n",
       "      <td>...</td>\n",
       "    </tr>\n",
       "    <tr>\n",
       "      <th>158</th>\n",
       "      <td>1.044359e+06</td>\n",
       "      <td>860753.520684</td>\n",
       "      <td>56531.212449</td>\n",
       "    </tr>\n",
       "    <tr>\n",
       "      <th>159</th>\n",
       "      <td>1.033573e+06</td>\n",
       "      <td>871273.227085</td>\n",
       "      <td>56797.760709</td>\n",
       "    </tr>\n",
       "    <tr>\n",
       "      <th>160</th>\n",
       "      <td>1.022722e+06</td>\n",
       "      <td>881854.598968</td>\n",
       "      <td>57067.564509</td>\n",
       "    </tr>\n",
       "    <tr>\n",
       "      <th>161</th>\n",
       "      <td>1.011815e+06</td>\n",
       "      <td>892488.451555</td>\n",
       "      <td>57340.639496</td>\n",
       "    </tr>\n",
       "    <tr>\n",
       "      <th>162</th>\n",
       "      <td>1.000862e+06</td>\n",
       "      <td>903164.678464</td>\n",
       "      <td>57616.995123</td>\n",
       "    </tr>\n",
       "  </tbody>\n",
       "</table>\n",
       "<p>162 rows × 3 columns</p>\n",
       "</div>"
      ],
      "text/plain": [
       "                S              I             R\n",
       "1    1.886198e+06   56585.000000  18861.000000\n",
       "2    1.885572e+06   57209.998618  18861.967822\n",
       "3    1.885522e+06   57257.214396  18865.122836\n",
       "4    1.885325e+06   57450.518400  18868.813375\n",
       "5    1.885008e+06   57764.473405  18871.599349\n",
       "..            ...            ...           ...\n",
       "158  1.044359e+06  860753.520684  56531.212449\n",
       "159  1.033573e+06  871273.227085  56797.760709\n",
       "160  1.022722e+06  881854.598968  57067.564509\n",
       "161  1.011815e+06  892488.451555  57340.639496\n",
       "162  1.000862e+06  903164.678464  57616.995123\n",
       "\n",
       "[162 rows x 3 columns]"
      ]
     },
     "execution_count": 31,
     "metadata": {},
     "output_type": "execute_result"
    }
   ],
   "source": [
    "# Решение системы дифференциальных уравнений SIR\n",
    "# solution = odeint(sir_model, y0, t, args=(combined_data['beta_forecast'], combined_data['gamma_forecast']))\n",
    "# solution = solve_ivp(sir_model, [t[0], t[-1]], y0, args=(beta_forecast, gamma_forecast), t_eval=t)\n",
    "solution = solve_ivp(\n",
    "    fun=lambda t, y: sir_model(t-1, y, beta_interp, gamma_interp),\n",
    "    t_span=[t[1], t[-1]],\n",
    "    y0=y0,\n",
    "    t_eval=t[1:]\n",
    ")\n",
    "S, I, R = solution.y\n",
    "solution_df = pd.DataFrame({'S': S, 'I': I, 'R': R}, index=solution.t)\n",
    "solution_df"
   ]
  },
  {
   "cell_type": "code",
   "execution_count": 37,
   "id": "ccfac3ab",
   "metadata": {},
   "outputs": [
    {
     "name": "stderr",
     "output_type": "stream",
     "text": [
      "C:\\Users\\legyx\\AppData\\Local\\Temp\\ipykernel_14284\\4027277170.py:5: FutureWarning: The behavior of `series[i:j]` with an integer-dtype index is deprecated. In a future version, this will be treated as *label-based* indexing, consistent with e.g. `series[i]` lookups. To retain the old behavior, use `series.iloc[i:j]`. To get the future behavior, use `series.loc[i:j]`.\n",
      "  plt.plot(t, latvia_data['Infected'][:len(t)], label='Infected (actual)')\n"
     ]
    },
    {
     "data": {
      "image/png": "[encoded data removed]",
      "text/plain": [
       "<Figure size 640x480 with 1 Axes>"
      ]
     },
     "metadata": {},
     "output_type": "display_data"
    }
   ],
   "source": [
    "# Отображение результатов\n",
    "plt.plot(t[1:], solution_df['I'], label='Infected (predicted)')\n",
    "# plt.plot(t[:n_train], train_data['DETAILED_CASES_CONFIRMED'], label='Infected_train (actual)')\n",
    "# plt.plot(t[n_train:], test_data['DETAILED_CASES_CONFIRMED'], label='Infected_test (actual)')\n",
    "plt.plot(t, latvia_data['Infected'][:len(t)], label='Infected (actual)')\n",
    "plt.xlabel('Time')\n",
    "plt.ylabel('Number of Infected')\n",
    "plt.legend()\n",
    "plt.show()"
   ]
  },
  {
   "cell_type": "code",
   "execution_count": 33,
   "id": "c20ef864",
   "metadata": {},
   "outputs": [
    {
     "name": "stderr",
     "output_type": "stream",
     "text": [
      "C:\\Users\\legyx\\AppData\\Local\\Temp\\ipykernel_14284\\3860571745.py:4: FutureWarning: The behavior of `series[i:j]` with an integer-dtype index is deprecated. In a future version, this will be treated as *label-based* indexing, consistent with e.g. `series[i]` lookups. To retain the old behavior, use `series.iloc[i:j]`. To get the future behavior, use `series.loc[i:j]`.\n",
      "  plt.plot(t_beta, latvia_data['Betta'][n_train:], label='Beta (actual)')\n"
     ]
    },
    {
     "data": {
      "image/png": "[encoded data removed]",
      "text/plain": [
       "<Figure size 640x480 with 1 Axes>"
      ]
     },
     "metadata": {},
     "output_type": "display_data"
    }
   ],
   "source": [
    "t_beta = t[n_train : n_train + len(beta_forecast_)]\n",
    "\n",
    "plt.plot(t_beta, beta_forecast_, label='Infected_train (predict)')\n",
    "plt.plot(t_beta, latvia_data['Betta'][n_train:], label='Beta (actual)')\n",
    "plt.xlabel('Time')\n",
    "plt.ylabel('Number of Infected')\n",
    "plt.legend()\n",
    "plt.show()"
   ]
  },
  {
   "cell_type": "code",
   "execution_count": 34,
   "id": "7da466dc",
   "metadata": {},
   "outputs": [
    {
     "name": "stderr",
     "output_type": "stream",
     "text": [
      "C:\\Users\\legyx\\AppData\\Local\\Temp\\ipykernel_14284\\204251195.py:2: FutureWarning: The behavior of `series[i:j]` with an integer-dtype index is deprecated. In a future version, this will be treated as *label-based* indexing, consistent with e.g. `series[i]` lookups. To retain the old behavior, use `series.iloc[i:j]`. To get the future behavior, use `series.loc[i:j]`.\n",
      "  plt.plot(t_beta, latvia_data['Gamma'][n_train:], label='Gamma (actual)')\n"
     ]
    },
    {
     "data": {
      "image/png": "[encoded data removed]",
      "text/plain": [
       "<Figure size 640x480 with 1 Axes>"
      ]
     },
     "metadata": {},
     "output_type": "display_data"
    }
   ],
   "source": [
    "plt.plot(t_beta, gamma_forecast_, label='Infected_train (predict)')\n",
    "plt.plot(t_beta, latvia_data['Gamma'][n_train:], label='Gamma (actual)')\n",
    "plt.xlabel('Time')\n",
    "plt.ylabel('Number of Infected')\n",
    "plt.legend()\n",
    "plt.show()"
   ]
  },
  {
   "cell_type": "code",
   "execution_count": 35,
   "id": "70872a48",
   "metadata": {},
   "outputs": [
    {
     "data": {
      "text/html": [
       "<table class=\"simpletable\">\n",
       "<caption>SARIMAX Results</caption>\n",
       "<tr>\n",
       "  <th>Dep. Variable:</th>         <td>Betta</td>      <th>  No. Observations:  </th>    <td>130</td>   \n",
       "</tr>\n",
       "<tr>\n",
       "  <th>Model:</th>            <td>ARIMA(1, 0, 2)</td>  <th>  Log Likelihood     </th> <td>1375.272</td> \n",
       "</tr>\n",
       "<tr>\n",
       "  <th>Date:</th>            <td>Mon, 26 Jun 2023</td> <th>  AIC                </th> <td>-2740.544</td>\n",
       "</tr>\n",
       "<tr>\n",
       "  <th>Time:</th>                <td>13:10:26</td>     <th>  BIC                </th> <td>-2726.207</td>\n",
       "</tr>\n",
       "<tr>\n",
       "  <th>Sample:</th>                  <td>0</td>        <th>  HQIC               </th> <td>-2734.718</td>\n",
       "</tr>\n",
       "<tr>\n",
       "  <th></th>                      <td> - 130</td>      <th>                     </th>     <td> </td>    \n",
       "</tr>\n",
       "<tr>\n",
       "  <th>Covariance Type:</th>        <td>opg</td>       <th>                     </th>     <td> </td>    \n",
       "</tr>\n",
       "</table>\n",
       "<table class=\"simpletable\">\n",
       "<tr>\n",
       "     <td></td>       <th>coef</th>     <th>std err</th>      <th>z</th>      <th>P>|z|</th>  <th>[0.025</th>    <th>0.975]</th>  \n",
       "</tr>\n",
       "<tr>\n",
       "  <th>const</th>  <td> 1.242e-08</td> <td> 1.29e-20</td> <td> 9.65e+11</td> <td> 0.000</td> <td> 1.24e-08</td> <td> 1.24e-08</td>\n",
       "</tr>\n",
       "<tr>\n",
       "  <th>ar.L1</th>  <td>    0.8894</td> <td> 1.34e-20</td> <td> 6.64e+19</td> <td> 0.000</td> <td>    0.889</td> <td>    0.889</td>\n",
       "</tr>\n",
       "<tr>\n",
       "  <th>ma.L1</th>  <td>    0.7503</td> <td> 2.31e-21</td> <td> 3.25e+20</td> <td> 0.000</td> <td>    0.750</td> <td>    0.750</td>\n",
       "</tr>\n",
       "<tr>\n",
       "  <th>ma.L2</th>  <td>    0.5052</td> <td> 4.03e-21</td> <td> 1.25e+20</td> <td> 0.000</td> <td>    0.505</td> <td>    0.505</td>\n",
       "</tr>\n",
       "<tr>\n",
       "  <th>sigma2</th> <td>     1e-10</td> <td> 1.74e-10</td> <td>    0.575</td> <td> 0.565</td> <td>-2.41e-10</td> <td> 4.41e-10</td>\n",
       "</tr>\n",
       "</table>\n",
       "<table class=\"simpletable\">\n",
       "<tr>\n",
       "  <th>Ljung-Box (L1) (Q):</th>     <td>0.45</td> <th>  Jarque-Bera (JB):  </th> <td>544.65</td>\n",
       "</tr>\n",
       "<tr>\n",
       "  <th>Prob(Q):</th>                <td>0.50</td> <th>  Prob(JB):          </th>  <td>0.00</td> \n",
       "</tr>\n",
       "<tr>\n",
       "  <th>Heteroskedasticity (H):</th> <td>4.08</td> <th>  Skew:              </th>  <td>1.60</td> \n",
       "</tr>\n",
       "<tr>\n",
       "  <th>Prob(H) (two-sided):</th>    <td>0.00</td> <th>  Kurtosis:          </th>  <td>12.50</td>\n",
       "</tr>\n",
       "</table><br/><br/>Warnings:<br/>[1] Covariance matrix calculated using the outer product of gradients (complex-step).<br/>[2] Covariance matrix is singular or near-singular, with condition number 5.38e+37. Standard errors may be unstable."
      ],
      "text/plain": [
       "<class 'statsmodels.iolib.summary.Summary'>\n",
       "\"\"\"\n",
       "                               SARIMAX Results                                \n",
       "==============================================================================\n",
       "Dep. Variable:                  Betta   No. Observations:                  130\n",
       "Model:                 ARIMA(1, 0, 2)   Log Likelihood                1375.272\n",
       "Date:                Mon, 26 Jun 2023   AIC                          -2740.544\n",
       "Time:                        13:10:26   BIC                          -2726.207\n",
       "Sample:                             0   HQIC                         -2734.718\n",
       "                                - 130                                         \n",
       "Covariance Type:                  opg                                         \n",
       "==============================================================================\n",
       "                 coef    std err          z      P>|z|      [0.025      0.975]\n",
       "------------------------------------------------------------------------------\n",
       "const       1.242e-08   1.29e-20   9.65e+11      0.000    1.24e-08    1.24e-08\n",
       "ar.L1          0.8894   1.34e-20   6.64e+19      0.000       0.889       0.889\n",
       "ma.L1          0.7503   2.31e-21   3.25e+20      0.000       0.750       0.750\n",
       "ma.L2          0.5052   4.03e-21   1.25e+20      0.000       0.505       0.505\n",
       "sigma2          1e-10   1.74e-10      0.575      0.565   -2.41e-10    4.41e-10\n",
       "===================================================================================\n",
       "Ljung-Box (L1) (Q):                   0.45   Jarque-Bera (JB):               544.65\n",
       "Prob(Q):                              0.50   Prob(JB):                         0.00\n",
       "Heteroskedasticity (H):               4.08   Skew:                             1.60\n",
       "Prob(H) (two-sided):                  0.00   Kurtosis:                        12.50\n",
       "===================================================================================\n",
       "\n",
       "Warnings:\n",
       "[1] Covariance matrix calculated using the outer product of gradients (complex-step).\n",
       "[2] Covariance matrix is singular or near-singular, with condition number 5.38e+37. Standard errors may be unstable.\n",
       "\"\"\""
      ]
     },
     "execution_count": 35,
     "metadata": {},
     "output_type": "execute_result"
    }
   ],
   "source": [
    "model_beta.summary()"
   ]
  },
  {
   "cell_type": "code",
   "execution_count": 36,
   "id": "97775e31",
   "metadata": {},
   "outputs": [
    {
     "data": {
      "text/html": [
       "<table class=\"simpletable\">\n",
       "<caption>SARIMAX Results</caption>\n",
       "<tr>\n",
       "  <th>Dep. Variable:</th>         <td>Gamma</td>      <th>  No. Observations:  </th>    <td>130</td>   \n",
       "</tr>\n",
       "<tr>\n",
       "  <th>Model:</th>            <td>ARIMA(1, 1, 2)</td>  <th>  Log Likelihood     </th>  <td>850.021</td> \n",
       "</tr>\n",
       "<tr>\n",
       "  <th>Date:</th>            <td>Mon, 26 Jun 2023</td> <th>  AIC                </th> <td>-1692.041</td>\n",
       "</tr>\n",
       "<tr>\n",
       "  <th>Time:</th>                <td>13:10:26</td>     <th>  BIC                </th> <td>-1680.602</td>\n",
       "</tr>\n",
       "<tr>\n",
       "  <th>Sample:</th>                  <td>0</td>        <th>  HQIC               </th> <td>-1687.393</td>\n",
       "</tr>\n",
       "<tr>\n",
       "  <th></th>                      <td> - 130</td>      <th>                     </th>     <td> </td>    \n",
       "</tr>\n",
       "<tr>\n",
       "  <th>Covariance Type:</th>        <td>opg</td>       <th>                     </th>     <td> </td>    \n",
       "</tr>\n",
       "</table>\n",
       "<table class=\"simpletable\">\n",
       "<tr>\n",
       "     <td></td>       <th>coef</th>     <th>std err</th>      <th>z</th>      <th>P>|z|</th>  <th>[0.025</th>    <th>0.975]</th>  \n",
       "</tr>\n",
       "<tr>\n",
       "  <th>ar.L1</th>  <td>    0.7275</td> <td>    0.080</td> <td>    9.050</td> <td> 0.000</td> <td>    0.570</td> <td>    0.885</td>\n",
       "</tr>\n",
       "<tr>\n",
       "  <th>ma.L1</th>  <td>   -0.8439</td> <td>    0.086</td> <td>   -9.819</td> <td> 0.000</td> <td>   -1.012</td> <td>   -0.675</td>\n",
       "</tr>\n",
       "<tr>\n",
       "  <th>ma.L2</th>  <td>    0.4721</td> <td>    0.060</td> <td>    7.807</td> <td> 0.000</td> <td>    0.354</td> <td>    0.591</td>\n",
       "</tr>\n",
       "<tr>\n",
       "  <th>sigma2</th> <td> 1.097e-07</td> <td> 7.52e-09</td> <td>   14.580</td> <td> 0.000</td> <td> 9.49e-08</td> <td> 1.24e-07</td>\n",
       "</tr>\n",
       "</table>\n",
       "<table class=\"simpletable\">\n",
       "<tr>\n",
       "  <th>Ljung-Box (L1) (Q):</th>     <td>0.12</td> <th>  Jarque-Bera (JB):  </th> <td>2248.44</td>\n",
       "</tr>\n",
       "<tr>\n",
       "  <th>Prob(Q):</th>                <td>0.73</td> <th>  Prob(JB):          </th>  <td>0.00</td>  \n",
       "</tr>\n",
       "<tr>\n",
       "  <th>Heteroskedasticity (H):</th> <td>0.63</td> <th>  Skew:              </th>  <td>-2.32</td> \n",
       "</tr>\n",
       "<tr>\n",
       "  <th>Prob(H) (two-sided):</th>    <td>0.13</td> <th>  Kurtosis:          </th>  <td>22.92</td> \n",
       "</tr>\n",
       "</table><br/><br/>Warnings:<br/>[1] Covariance matrix calculated using the outer product of gradients (complex-step)."
      ],
      "text/plain": [
       "<class 'statsmodels.iolib.summary.Summary'>\n",
       "\"\"\"\n",
       "                               SARIMAX Results                                \n",
       "==============================================================================\n",
       "Dep. Variable:                  Gamma   No. Observations:                  130\n",
       "Model:                 ARIMA(1, 1, 2)   Log Likelihood                 850.021\n",
       "Date:                Mon, 26 Jun 2023   AIC                          -1692.041\n",
       "Time:                        13:10:26   BIC                          -1680.602\n",
       "Sample:                             0   HQIC                         -1687.393\n",
       "                                - 130                                         \n",
       "Covariance Type:                  opg                                         \n",
       "==============================================================================\n",
       "                 coef    std err          z      P>|z|      [0.025      0.975]\n",
       "------------------------------------------------------------------------------\n",
       "ar.L1          0.7275      0.080      9.050      0.000       0.570       0.885\n",
       "ma.L1         -0.8439      0.086     -9.819      0.000      -1.012      -0.675\n",
       "ma.L2          0.4721      0.060      7.807      0.000       0.354       0.591\n",
       "sigma2      1.097e-07   7.52e-09     14.580      0.000    9.49e-08    1.24e-07\n",
       "===================================================================================\n",
       "Ljung-Box (L1) (Q):                   0.12   Jarque-Bera (JB):              2248.44\n",
       "Prob(Q):                              0.73   Prob(JB):                         0.00\n",
       "Heteroskedasticity (H):               0.63   Skew:                            -2.32\n",
       "Prob(H) (two-sided):                  0.13   Kurtosis:                        22.92\n",
       "===================================================================================\n",
       "\n",
       "Warnings:\n",
       "[1] Covariance matrix calculated using the outer product of gradients (complex-step).\n",
       "\"\"\""
      ]
     },
     "execution_count": 36,
     "metadata": {},
     "output_type": "execute_result"
    }
   ],
   "source": [
    "model_gamma.summary()"
   ]
  }
 ],
 "metadata": {
  "kernelspec": {
   "display_name": "Python 3 (ipykernel)",
   "language": "python",
   "name": "python3"
  },
  "language_info": {
   "codemirror_mode": {
    "name": "ipython",
    "version": 3
   },
   "file_extension": ".py",
   "mimetype": "text/x-python",
   "name": "python",
   "nbconvert_exporter": "python",
   "pygments_lexer": "ipython3",
   "version": "3.9.16"
  }
 },
 "nbformat": 4,
 "nbformat_minor": 5
}
